{
 "cells": [
  {
   "cell_type": "markdown",
   "id": "43037693",
   "metadata": {},
   "source": [
    "# Data Science Tools and Ecosystem"
   ]
  },
  {
   "cell_type": "markdown",
   "id": "632583ff",
   "metadata": {},
   "source": [
    "In this notebook, Data Science Tools and Ecosystem are summarized.\n"
   ]
  },
  {
   "cell_type": "markdown",
   "id": "1c5f4a52",
   "metadata": {},
   "source": [
    "**Objetives:** \n",
    "- Know the basic features and functionality of Jupyter Notebook and Jupyter Lab.\n",
    "- Discover the benefits that Anaconda brings.\n",
    "- Know Visual Basic as the popular console among programmers\n",
    "- Describe the R Studio environment and its libraries.\n",
    "- Explain how Github meets the needs of a source code repository."
   ]
  },
  {
   "cell_type": "markdown",
   "id": "ed83b28b",
   "metadata": {},
   "source": [
    "Some of the popular languages that Data Scientists use are:\n",
    "1. Python\n",
    "2. R Studio\n",
    "3. SQL"
   ]
  },
  {
   "cell_type": "markdown",
   "id": "d0bd6016",
   "metadata": {},
   "source": [
    "Some of the commonly used libraries used by Data Scientists include:\n",
    "1. Panda\n",
    "2. Numpy\n",
    "3. Pplots\n",
    "\n"
   ]
  },
  {
   "attachments": {},
   "cell_type": "markdown",
   "id": "4e1f4cf4",
   "metadata": {},
   "source": [
    "|Data Science Tools|\n",
    "---------------------------\n",
    "|Jupyter Notebook|\n",
    "|Jupyter Lab|\n",
    "|Visual Basic|\n"
   ]
  },
  {
   "cell_type": "markdown",
   "id": "6db5c975",
   "metadata": {},
   "source": [
    "### Below are a few examples of evaluating arithmetic expressions in Python.\n"
   ]
  },
  {
   "cell_type": "code",
   "execution_count": 1,
   "id": "24633092",
   "metadata": {},
   "outputs": [
    {
     "data": {
      "text/plain": [
       "17"
      ]
     },
     "execution_count": 1,
     "metadata": {},
     "output_type": "execute_result"
    }
   ],
   "source": [
    "#This a simple arithmetic expression to mutiply then add integers\n",
    "(3*4)+5"
   ]
  },
  {
   "cell_type": "code",
   "execution_count": 2,
   "id": "0687844c",
   "metadata": {},
   "outputs": [
    {
     "data": {
      "text/plain": [
       "3.3333333333333335"
      ]
     },
     "execution_count": 2,
     "metadata": {},
     "output_type": "execute_result"
    }
   ],
   "source": [
    "#this will convert 200 minutes to hours by diving by 60\n",
    "200/60"
   ]
  },
  {
   "cell_type": "markdown",
   "id": "8644545b",
   "metadata": {},
   "source": [
    "## Autor\n",
    "Hetson Tomas Gutierrez Escobar"
   ]
  },
  {
   "cell_type": "code",
   "execution_count": null,
   "id": "be34d3ac",
   "metadata": {},
   "outputs": [],
   "source": []
  }
 ],
 "metadata": {
  "kernelspec": {
   "display_name": "Python 3 (ipykernel)",
   "language": "python",
   "name": "python3"
  },
  "language_info": {
   "codemirror_mode": {
    "name": "ipython",
    "version": 3
   },
   "file_extension": ".py",
   "mimetype": "text/x-python",
   "name": "python",
   "nbconvert_exporter": "python",
   "pygments_lexer": "ipython3",
   "version": "3.9.13"
  }
 },
 "nbformat": 4,
 "nbformat_minor": 5
}
